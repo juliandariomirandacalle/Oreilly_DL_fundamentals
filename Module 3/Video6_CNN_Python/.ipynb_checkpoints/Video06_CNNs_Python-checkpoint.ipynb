{
 "cells": [
  {
   "cell_type": "markdown",
   "metadata": {},
   "source": [
    "# Training a Convolutional Neural Network (CNN)\n",
    "*The code in this notebook can take some minutes to fully execute. Do not worry if some cells are still executing after four to five minutes, it is expected for some training processes to take even longer.*"
   ]
  },
  {
   "cell_type": "markdown",
   "metadata": {},
   "source": [
    "## Introduction to the Case Study"
   ]
  },
  {
   "cell_type": "markdown",
   "metadata": {},
   "source": [
    "**Business Context.** You are a computer security advisor with knowledge in Deep Learning from AI Integrated Services (fictitious name). This New York-based company provides Artificial Intelligence services and is looking for talent for one of its projects, real-time digits recognition with high accuracy."
   ]
  },
  {
   "cell_type": "markdown",
   "metadata": {},
   "source": [
    "**Business Problem.** The current techniques used to identify hand-written digits are based on the expert view and Feed-Forward Neural Netoworks, having an acceptable performance, but not the desired one (above 95%). The company wants to improve the current model performance by including more up-to-date algorithmic solutions on the Deep Learning space."
   ]
  },
  {
   "cell_type": "markdown",
   "metadata": {},
   "source": [
    "**Data context.** The data to be processed was obtained from a large number of digital contracts, currently available in the following files: `train-images`, `train-labels`, `test-images` and `test-labels`."
   ]
  },
  {
   "cell_type": "markdown",
   "metadata": {},
   "source": [
    "## Importing the packages for data analysis\n",
    "\n",
    "We will use three main packages: `pandas`, `numpy`, and `matplotlib`. Let's import these packages using the `import` keyword. We will rename `pandas` to `pd`, `numpy` to `np`, and `matplotlib` to `plt`, using the `as` keyword."
   ]
  },
  {
   "cell_type": "code",
   "execution_count": 1,
   "metadata": {},
   "outputs": [],
   "source": [
    "import matplotlib.pyplot as plt\n",
    "import numpy as np\n",
    "import pandas as pd\n",
    "import torch\n",
    "import torch.nn as nn\n",
    "import time\n",
    "\n",
    "from MNIST import MNIST_Reader\n",
    "from DataLoader import MNIST_DataLoader"
   ]
  },
  {
   "cell_type": "markdown",
   "metadata": {
    "collapsed": true,
    "jupyter": {
     "outputs_hidden": true
    }
   },
   "source": [
    "We will read a series of grayscale digital image files representing the digits of digital contracts, separated into training and testing data. Each data set consists of 28x28 digit grayscale images, stored as serialized `numpy` arrays. We will use the `MNIST` (specifically the `MNIST_Reader`) package provided to read and load the images.\n",
    "\n",
    "Let's now instantiate the class and read the images of the digit 7:"
   ]
  },
  {
   "cell_type": "code",
   "execution_count": 2,
   "metadata": {},
   "outputs": [],
   "source": [
    "training_set, testing_set = MNIST_Reader().load_images_from_digit(digit=7)"
   ]
  },
  {
   "cell_type": "markdown",
   "metadata": {},
   "source": [
    "Let's check the size of the arrays containing the images:"
   ]
  },
  {
   "cell_type": "code",
   "execution_count": 3,
   "metadata": {},
   "outputs": [
    {
     "name": "stdout",
     "output_type": "stream",
     "text": [
      "(28, 28, 3132) (28, 28, 3133)\n"
     ]
    }
   ],
   "source": [
    "print(training_set.shape, testing_set.shape)"
   ]
  },
  {
   "cell_type": "markdown",
   "metadata": {},
   "source": [
    "As we can see, we have 3132 training images and 313 testing images, all of them with a spatial resolution (size) of 28x28 pixels. Let's now look at three randomly selected images:"
   ]
  },
  {
   "cell_type": "code",
   "execution_count": 4,
   "metadata": {},
   "outputs": [
    {
     "data": {
      "image/png": "[encoded data removed]",
      "text/plain": [
       "<Figure size 1500x10000 with 3 Axes>"
      ]
     },
     "metadata": {},
     "output_type": "display_data"
    }
   ],
   "source": [
    "# Plot three images\n",
    "\n",
    "image_indices = [1, 100, 1000]                       # Hand-picked image indices\n",
    "fig, axes = plt.subplots(1,3,figsize=(15,100))       # Plottig three images in one row\n",
    "plt.rcParams['image.cmap'] = 'gray'                  # Param defining grayscale images to be plotted\n",
    "for idx,image_idx in enumerate(image_indices):       # Plotting the three images selected\n",
    "    axes[idx].imshow(training_set[:,:,image_idx])\n",
    "    axes[idx].axis('off')\n",
    "plt.show()                                           # Showing the images in the plot"
   ]
  },
  {
   "cell_type": "markdown",
   "metadata": {},
   "source": [
    "# Convolutional Neural Networks"
   ]
  },
  {
   "cell_type": "markdown",
   "metadata": {},
   "source": [
    "### Building our Neural Network architecture from scratch"
   ]
  },
  {
   "cell_type": "markdown",
   "metadata": {},
   "source": [
    "To build a Convolutional Neural Network, we first need to see how to append multiple layers into formal neural blocks. So far, we have used the following Multi-Layer Perceptron architecture to build a Feed-Forward Neural Network:"
   ]
  },
  {
   "cell_type": "code",
   "execution_count": 5,
   "metadata": {},
   "outputs": [],
   "source": [
    "class MLP_Classifier(nn.Module):\n",
    "    def __init__(self):\n",
    "        super(MLP_Casslfier, self).__init__()             # This avoids re-implementing initialization from nn.Module\n",
    "        self.layer_1 = nn.Linear(28*28, 256, bias=True)   # Creating the first layer of the neural network\n",
    "        self.layer_2 = nn.Linear(256, 10, bias=True)      # Creating the second layer of the neural network\n",
    "        self.relu_function  = nn.ReLU()                   # Creating the ReLU function\n",
    "    \n",
    "    def forward(self, x):                                 # Forward method to propagate information\n",
    "        x = self.layer_1(x)\n",
    "        x = self.relu_function(x)\n",
    "        output = self.layer_2(x)\n",
    "        return output"
   ]
  },
  {
   "cell_type": "markdown",
   "metadata": {},
   "source": [
    "In the architecture shown above, we are stacking a Linear layer with a ReLU function having 784 and 256 neurons, respectively, followed by a Linear output layer with 10 neurons in the output. The `.forward()` function is the one stacking all layers together in a sequential order. Nevertheless, this is not the only way to implement stacked layers in a neural structure. We can use the `Sequential` class to formally defined steps that will be executed in a sequential order:"
   ]
  },
  {
   "cell_type": "code",
   "execution_count": 6,
   "metadata": {},
   "outputs": [],
   "source": [
    "class MLP_Classifier_Seq(nn.Module):\n",
    "    def __init__(self):\n",
    "        super(MLP_Classifier_Seq, self).__init__()\n",
    "        \n",
    "        self.seq_block = nn.Sequential(\n",
    "            nn.Flatten(),                         # Flattening the input from a bicimensional representation to a unidimensional one\n",
    "            nn.Linear(28*28, 256, bias=True),     # Creating the first layer of the neural network\n",
    "            nn.ReLU(inplace=True),                # Defining the ReLU function to be executed sequentially\n",
    "            nn.Linear(256,10, bias=True),         # Creating the second layer of the neural network\n",
    "        )\n",
    "\n",
    "    def forward(self, x):                         # Forward method to propagate information\n",
    "        return self.seq_block(x)"
   ]
  },
  {
   "cell_type": "markdown",
   "metadata": {},
   "source": [
    "As you can see from the above, stipulating layers with `Sequential`  is not only much easier to do, but much easier to follow and interpret. We can clearly see that a linear step, followed by a ReLU function and then a linear step are done to finally move the information from 784 input neurons to 10 output ones. This architecture with sequential steps is the one that we will use to stipulate convolutional, pooling, normalization and dropour layers from now on."
   ]
  },
  {
   "cell_type": "markdown",
   "metadata": {},
   "source": [
    "Let's export the complete dataset with images from all digits from 0 to 9. To do so, we will use the `MNIST_DataLoader` class within the `DataLoader` package. This class consumes data from our MNIST folder and structures it for proper consumption. We just need to define the digits to be imported (`labels_input`) and the batch size (`batch_size`):"
   ]
  },
  {
   "cell_type": "code",
   "execution_count": 7,
   "metadata": {},
   "outputs": [],
   "source": [
    "labels_input = [i for i in range(0,10)]    # The images from this digit labels will be imported\n",
    "batch_size = 64                            # Size of the batch used to partition the data\n",
    "\n",
    "# Importing the images from all digits mapped in labels_input\n",
    "data_loader = MNIST_DataLoader(labels_input = labels_input)\n",
    "training_set, testing_set, training_labels, testing_labels = data_loader.get_images()"
   ]
  },
  {
   "cell_type": "markdown",
   "metadata": {},
   "source": [
    "Now, let's split the data into batches of 64 observations:"
   ]
  },
  {
   "cell_type": "code",
   "execution_count": 8,
   "metadata": {},
   "outputs": [
    {
     "name": "stdout",
     "output_type": "stream",
     "text": [
      "(64, 1, 28, 28)\n",
      "(64,)\n",
      "\n",
      "(64, 1, 28, 28)\n",
      "(64,)\n",
      "\n",
      "(64, 1, 28, 28)\n",
      "(64,)\n",
      "\n",
      "(64, 1, 28, 28)\n",
      "(64,)\n",
      "\n",
      "(64, 1, 28, 28)\n",
      "(64,)\n",
      "\n"
     ]
    }
   ],
   "source": [
    "# Splitting the training and testing data into batches of 64 observaciones with their labels\n",
    "training_set_batches, training_labels_batches = data_loader.split_batches(training_set, training_labels, batch_size = batch_size)\n",
    "testing_set_batches, testing_labels_batches = data_loader.split_batches(testing_set, testing_labels, batch_size = batch_size)\n",
    "\n",
    "# Iterating over the first five random batches of the training dataset\n",
    "for idx, array in enumerate(training_set_batches[:5]):\n",
    "        print(array.shape)                                        # Showing the shape of the training set per batch\n",
    "        print(training_labels_batches[idx].shape, end='\\n\\n')     # Showing the shape of the labels array per batch"
   ]
  },
  {
   "cell_type": "markdown",
   "metadata": {},
   "source": [
    "Most of the batches will have 64 samples in their training/testing set and 64 target values in the labels' array. There are few batches that will have 63 samples due to the fact that the number of training samples is not a multiple of 64."
   ]
  },
  {
   "cell_type": "markdown",
   "metadata": {},
   "source": [
    "### Building the training and testing methods"
   ]
  },
  {
   "cell_type": "markdown",
   "metadata": {},
   "source": [
    "Let's start by defining the training method, which will receive the trainig data, the classifier object, the number of training iterations and the loss function to be evaluated:"
   ]
  },
  {
   "cell_type": "code",
   "execution_count": 9,
   "metadata": {},
   "outputs": [],
   "source": [
    "def train(X_train, y_train, classifier, optimizer,\n",
    "          epochs = 25,\n",
    "          loss_function = nn.CrossEntropyLoss(), \n",
    "          verbose = True):\n",
    "\n",
    "    \"\"\"\n",
    "    Training function.\n",
    "    Inputs:\n",
    "        - classifier: base classifier object to be used\n",
    "        - optimizer: optimizer to be used to calculate the gradients\n",
    "        - epochs: number of trainig iterations\n",
    "        - loss_function: loss function object to be used to calculate training error\n",
    "        - X_train: training samples formatted in batches\n",
    "        - y_train: training labels formatted in batches\n",
    "        - verbose: binary label to determine whether to print extra info or not\n",
    "    Outputs:\n",
    "        - None\n",
    "    \"\"\"\n",
    "\n",
    "    classifier.train()                                            # Setting the model to train\n",
    "    loss_list = []                                                # Defining the loss list to store the loss per epoch\n",
    "\n",
    "    # Iterating over each epoch\n",
    "    for epoch in range(epochs):\n",
    "        running_loss = 0.0\n",
    "\n",
    "        # Iterating over each minibatch\n",
    "        for idx, array in enumerate(X_train):\n",
    "            target = torch.tensor(y_train[idx]).long()            # Parsing the labels to a tensor\n",
    "            data = torch.tensor(array).float()                    # Parsing the data to a Float tensor\n",
    "            output = classifier(data)                             # Calculating the output of the network for a given batch\n",
    "            computed_loss = loss_function(output, target)         # Calculating the loss for a given minibatch\n",
    "            computed_loss.backward()                              # Executing the backpropagation\n",
    "            optimizer.step()                                      # Updating the weights through SGD one step ahead\n",
    "            optimizer.zero_grad()                                 # Setting gradients to zero after the step above\n",
    "            running_loss += computed_loss.item()                  # Keep track of cummulative loss of each minibatch\n",
    "        loss_list.append(running_loss/len(X_train))               # Appending the loss per epoch in a list\n",
    "\n",
    "        if verbose:\n",
    "            print(\"Epoch: {}, Train loss: {}\".format(epoch+1,     # Printing the epoch iteration id and the loss per epoch\n",
    "                                                    running_loss/len(X_train)))\n",
    "\n",
    "    # Plotting the loss per epoch during training\n",
    "    plt.plot([i for i in range(1,epochs+1)], loss_list)\n",
    "    plt.xlabel(\"Epoch\")\n",
    "    plt.ylabel(\"Training Loss\")\n",
    "    plt.title(\"Training Loss - Learning rate {}\".format(optimizer.defaults['lr']))\n",
    "    plt.show()"
   ]
  },
  {
   "cell_type": "markdown",
   "metadata": {},
   "source": [
    "In the training function defined above, we are iterating over each of the batches and moving the updates of the weights according to the gradients calculated. Every time we move, we update the weights and register the compounded loss. This will happen in each of the training iterations until reaching the ixed number of iterations defined in `epoch`.\n",
    "\n",
    "Now that we know how training can be programmatically defined, let's see how to test the model:"
   ]
  },
  {
   "cell_type": "code",
   "execution_count": 10,
   "metadata": {},
   "outputs": [],
   "source": [
    "def test(X_test, y_test, classifier, \n",
    "         loss_function = nn.CrossEntropyLoss(),\n",
    "         batch_size = 64):\n",
    "    \"\"\"\n",
    "    Training function.\n",
    "    Inputs:\n",
    "        - classifier: base classifier object to be used\n",
    "        - loss_function: loss function object to be used to calculate testing error\n",
    "        - X_test: testing samples formatted in batches\n",
    "        - y_test: testing labels formatted in batches\n",
    "        - batch_size: size of the batch\n",
    "    Outputs:\n",
    "        - final_loss: final loss after testing with all given observations\n",
    "        - final_accuracy: final accuracy after testing with all given observations\n",
    "    \"\"\"\n",
    "    \n",
    "    classifier.eval()                                               # Setting the model to be tested\n",
    "    accuracy = 0.0                                                  # Accuracy accumulator\n",
    "    computed_loss = 0.0                                             # Loss accumulator\n",
    "\n",
    "    with torch.no_grad():                                           # Telling PyTorch that we don't need gradients when testing\n",
    "        for idx, array in enumerate(X_test):\n",
    "            target = torch.tensor(y_test[idx]).long()               # Parsing the labels to a tensor\n",
    "            data = torch.tensor(array).float()                      # Parsing the data to a Float tensor\n",
    "            output = classifier(data)                               # Calculating the output of the network for a given batch\n",
    "            _, preds = output.max(dim=1)                            # Getting the predicted label\n",
    "\n",
    "            # Get loss and accuracy\n",
    "            computed_loss += loss_function(output, target)          # Keep track of the cummulative loss of each batch\n",
    "            accuracy += torch.sum(preds == target)                  # Calculating the total number of coinciding elements\n",
    "        \n",
    "        final_loss = computed_loss.item()/(len(X_test)*batch_size)  # Final loss calculation\n",
    "        final_accuracy = accuracy*100.0/(len(X_test)*batch_size)    # Final accuracy calculation\n",
    "        print(\"Test loss: {}, test accuracy: {}\".format(            # Printing the final performance (loss & accuracy)\n",
    "                    final_loss, final_accuracy))\n",
    "\n",
    "    return final_loss, final_accuracy"
   ]
  },
  {
   "cell_type": "markdown",
   "metadata": {},
   "source": [
    "As in training, in testing we iterate over each of the testing batches. However, this time we are not updating any weights nor executing training iterations. We are simply measuring the loss per batch and calculating the global loss of the classifier with all testing samples. We are also calculating the accuracy of the model, which is defined as how many samples is the model getting right from the total samples we gave in the testing."
   ]
  },
  {
   "cell_type": "markdown",
   "metadata": {},
   "source": [
    "### Training a Feed-Forward Neural Network"
   ]
  },
  {
   "cell_type": "markdown",
   "metadata": {},
   "source": [
    "Before training a Convolutional Neural Network, let's start by training the Multi-Layer Perceptron defined a couple of cells above:"
   ]
  },
  {
   "cell_type": "code",
   "execution_count": 11,
   "metadata": {
    "scrolled": true
   },
   "outputs": [
    {
     "name": "stdout",
     "output_type": "stream",
     "text": [
      "Epoch: 1, Train loss: 2.2659026417396726\n",
      "Epoch: 2, Train loss: 2.1681972805625085\n",
      "Epoch: 3, Train loss: 2.054852269605787\n",
      "Epoch: 4, Train loss: 1.9193983072919378\n",
      "Epoch: 5, Train loss: 1.7655433896762223\n",
      "Epoch: 6, Train loss: 1.6044663988959307\n",
      "Epoch: 7, Train loss: 1.4484291094452588\n",
      "Epoch: 8, Train loss: 1.306459957094335\n",
      "Epoch: 9, Train loss: 1.1828580166993619\n",
      "Epoch: 10, Train loss: 1.0780692443664648\n",
      "Epoch: 11, Train loss: 0.9903522079179028\n",
      "Epoch: 12, Train loss: 0.9171422563636227\n",
      "Epoch: 13, Train loss: 0.8558286588583419\n",
      "Epoch: 14, Train loss: 0.8041316959649515\n",
      "Epoch: 15, Train loss: 0.7601785309024965\n",
      "Epoch: 16, Train loss: 0.7224689201632543\n",
      "Epoch: 17, Train loss: 0.689826901660545\n",
      "Epoch: 18, Train loss: 0.6613335782276796\n",
      "Epoch: 19, Train loss: 0.6362674996924045\n",
      "Epoch: 20, Train loss: 0.6140559652466764\n",
      "Epoch: 21, Train loss: 0.5942470877409489\n",
      "Epoch: 22, Train loss: 0.5764761403171238\n",
      "Epoch: 23, Train loss: 0.5604486613512547\n",
      "Epoch: 24, Train loss: 0.5459244729740533\n",
      "Epoch: 25, Train loss: 0.5327048739517676\n",
      "Epoch: 26, Train loss: 0.5206246520918824\n",
      "Epoch: 27, Train loss: 0.5095462354896928\n",
      "Epoch: 28, Train loss: 0.49935229824804295\n",
      "Epoch: 29, Train loss: 0.48994220342082\n",
      "Epoch: 30, Train loss: 0.4812305357410455\n",
      "Epoch: 31, Train loss: 0.47314420282078196\n",
      "Epoch: 32, Train loss: 0.4656197215194133\n",
      "Epoch: 33, Train loss: 0.45859997914925316\n",
      "Epoch: 34, Train loss: 0.45203639884620334\n",
      "Epoch: 35, Train loss: 0.44588507371924835\n",
      "Epoch: 36, Train loss: 0.4401076353435069\n",
      "Epoch: 37, Train loss: 0.4346702450882397\n",
      "Epoch: 38, Train loss: 0.4295432726139707\n",
      "Epoch: 39, Train loss: 0.42470049737358906\n",
      "Epoch: 40, Train loss: 0.42011734001290824\n",
      "Epoch: 41, Train loss: 0.4157733262411313\n",
      "Epoch: 42, Train loss: 0.411648365639166\n",
      "Epoch: 43, Train loss: 0.4077250728411461\n",
      "Epoch: 44, Train loss: 0.40398788464857316\n",
      "Epoch: 45, Train loss: 0.40042284296265546\n",
      "Epoch: 46, Train loss: 0.39701740599390284\n",
      "Epoch: 47, Train loss: 0.3937596465860094\n",
      "Epoch: 48, Train loss: 0.39063926177746705\n",
      "Epoch: 49, Train loss: 0.3876466677704854\n",
      "Epoch: 50, Train loss: 0.38477284062518746\n"
     ]
    },
    {
     "data": {
      "image/png": "[encoded data removed]",
      "text/plain": [
       "<Figure size 640x480 with 1 Axes>"
      ]
     },
     "metadata": {},
     "output_type": "display_data"
    }
   ],
   "source": [
    "learning_rate = 0.001\n",
    "epochs = 50\n",
    "\n",
    "# Instatiating the base classifier and the Stochastic GD\n",
    "mlp_seq_classifier = MLP_Classifier_Seq()\n",
    "sgd_optimizer = torch.optim.SGD(mlp_seq_classifier.parameters(), \n",
    "                                lr=learning_rate)\n",
    "\n",
    "# Training the model instantiated above\n",
    "train(classifier = mlp_seq_classifier, optimizer = sgd_optimizer, epochs = epochs,\n",
    "      X_train = training_set_batches, y_train = training_labels_batches)"
   ]
  },
  {
   "cell_type": "markdown",
   "metadata": {},
   "source": [
    "As we would expect, the loss is decreasing as we execute each of the training iterations. Although this depends on the learning rate, the batch size and the training data, among others, this downward trend is expected. Let's test the model with unseen examples and measure the accuracy:"
   ]
  },
  {
   "cell_type": "code",
   "execution_count": 12,
   "metadata": {},
   "outputs": [
    {
     "name": "stdout",
     "output_type": "stream",
     "text": [
      "Test loss: 0.006050375733040035, test accuracy: 89.38899230957031\n"
     ]
    }
   ],
   "source": [
    "# Testing the model with unseen examples\n",
    "final_loss, final_accuracy = test(classifier = mlp_seq_classifier,\n",
    "                                  X_test = testing_set_batches, \n",
    "                                  y_test = testing_labels_batches,\n",
    "                                  batch_size = batch_size)"
   ]
  },
  {
   "cell_type": "markdown",
   "metadata": {},
   "source": [
    "We can see thatthe model has an accuracy of around 90%; this means that out of the ~30,000 observations in the testing set, the model is able to identify around 27,000 correctly. This will be our baseline accuracy when building CNN models."
   ]
  },
  {
   "cell_type": "markdown",
   "metadata": {},
   "source": [
    "### Building our First Convolutional Neural Network (CNN)"
   ]
  },
  {
   "cell_type": "markdown",
   "metadata": {},
   "source": [
    "It is time to implement our own Convolutional Neural Network! To do so, we will start adding convolutional layers with activation functions one by one. First, we will grab some dummy samples taken from the training set to explain the application of the layers defined:"
   ]
  },
  {
   "cell_type": "code",
   "execution_count": 13,
   "metadata": {},
   "outputs": [
    {
     "data": {
      "text/plain": [
       "torch.Size([64, 1, 28, 28])"
      ]
     },
     "execution_count": 13,
     "metadata": {},
     "output_type": "execute_result"
    }
   ],
   "source": [
    "sample_array = torch.tensor(training_set_batches[0]).float()  # Grabbing the first batch of samples in the training set\n",
    "sample_array.shape"
   ]
  },
  {
   "cell_type": "markdown",
   "metadata": {},
   "source": [
    "The sample data has 64 observations of 28x28 images. Let's start by analyzing the first layer we will be adding, a convolutional layer with 32 output channels (neurons) produced:"
   ]
  },
  {
   "cell_type": "code",
   "execution_count": 14,
   "metadata": {},
   "outputs": [
    {
     "name": "stdout",
     "output_type": "stream",
     "text": [
      "Block 1.1 - torch.Size([64, 32, 26, 26])\n"
     ]
    }
   ],
   "source": [
    "seq_block_opt1_1 = nn.Sequential(   \n",
    "    nn.Conv2d(1, 32, 3, 1),                                 # Convolutional layer with no padding\n",
    ")\n",
    "\n",
    "print('Block 1.1 -', seq_block_opt1_1(sample_array).shape)  # Printing the final size of the output"
   ]
  },
  {
   "cell_type": "markdown",
   "metadata": {},
   "source": [
    "This single layer has a kernel of size (3, 3) and a stride of 1 without any padding. Hence, if the images have a size of (28, 28), the output will be having a size of (26, 26), since the kernel will decrease 2 units the width and the hight due to impossibility of executing the kernel over the pixels located in the borders.\n",
    "\n",
    "If we want to add a padding, then we just need to make the parameter explicit during the definition:"
   ]
  },
  {
   "cell_type": "code",
   "execution_count": 15,
   "metadata": {},
   "outputs": [
    {
     "name": "stdout",
     "output_type": "stream",
     "text": [
      "Block 1.2 - torch.Size([64, 32, 28, 28])\n"
     ]
    }
   ],
   "source": [
    "seq_block_opt1_2 = nn.Sequential(\n",
    "    nn.Conv2d(1, 32, 3, 1, padding='same'),                   # Convolutional layer with padding\n",
    ")\n",
    "\n",
    "print('Block 1.2 -', seq_block_opt1_2(sample_array).shape)    # Printing the final size of the output"
   ]
  },
  {
   "cell_type": "markdown",
   "metadata": {},
   "source": [
    "Besides the padding argument that we have added, we can see that the output is having a size of (28,28) instead of (26,26), due to the inclusion of the padding! We will not use padding for our first CNN architecture, but will add a ReLU activation function:"
   ]
  },
  {
   "cell_type": "code",
   "execution_count": 16,
   "metadata": {},
   "outputs": [
    {
     "name": "stdout",
     "output_type": "stream",
     "text": [
      "Block 2 - torch.Size([64, 32, 26, 26])\n"
     ]
    }
   ],
   "source": [
    "seq_block_opt2 = nn.Sequential(\n",
    "    nn.Conv2d(1, 32, 3, 1),                             # Convolutional layer with no padding\n",
    "    nn.ReLU(inplace=True),                              # ReLU activation function applied sequentially\n",
    ")\n",
    "\n",
    "print('Block 2 -', seq_block_opt2(sample_array).shape)  # Printing the final size of the output"
   ]
  },
  {
   "cell_type": "markdown",
   "metadata": {},
   "source": [
    "ReLU activation function should not change the output size expected, since it is applied over all the neurons built so far. Now, let's include a second convolutional layer, receiving 32 neurons and having 64 neurons in the output, with a kernel of size (3,3) and no padding:"
   ]
  },
  {
   "cell_type": "code",
   "execution_count": 17,
   "metadata": {},
   "outputs": [
    {
     "name": "stdout",
     "output_type": "stream",
     "text": [
      "Block 3 - torch.Size([64, 64, 24, 24])\n"
     ]
    }
   ],
   "source": [
    "seq_block_opt3 = nn.Sequential(\n",
    "    nn.Conv2d(1, 32, 3, 1),                             # First Convolutional layer with no padding\n",
    "    nn.ReLU(inplace=True),                              # ReLU activation function applied sequentially\n",
    "    nn.Conv2d(32, 64, 3, 1),                            # Second Convolutional layer with no padding\n",
    ")\n",
    "\n",
    "print('Block 3 -', seq_block_opt3(sample_array).shape)  # Printing the final size of the output"
   ]
  },
  {
   "cell_type": "markdown",
   "metadata": {},
   "source": [
    "Now, we have 64 neurons in the output per pixel, and (24,24) resulting values from both convolutions. This is due to the absence of a padding; since the second convolution was applied over matrices of size (26,26) with no padding, the result will be of size (24,24). Finally, we can add a second activation function:"
   ]
  },
  {
   "cell_type": "code",
   "execution_count": 18,
   "metadata": {},
   "outputs": [
    {
     "name": "stdout",
     "output_type": "stream",
     "text": [
      "Block 4 - torch.Size([64, 64, 24, 24])\n"
     ]
    }
   ],
   "source": [
    "seq_block_opt4 = nn.Sequential(\n",
    "    nn.Conv2d(1, 32, 3, 1),                             # First Convolutional layer with no padding\n",
    "    nn.ReLU(inplace=True),                              # First ReLU activation function applied sequentially\n",
    "    nn.Conv2d(32, 64, 3, 1),                            # Second Convolutional layer with no padding\n",
    "    nn.ReLU(inplace=True),                              # Second ReLU activation function applied sequentially\n",
    ")\n",
    "\n",
    "print('Block 4 -', seq_block_opt4(sample_array).shape)  # Printing the final size of the output"
   ]
  },
  {
   "cell_type": "markdown",
   "metadata": {},
   "source": [
    "This is our first convolutional block, having two convolutional layers and two activation functions. The final number of neurons in the output of this block will be 64 * 24 * 24 = 36,864. The second portion of the CNN is a FFNN-based architecture that can include the following block:"
   ]
  },
  {
   "cell_type": "code",
   "execution_count": 19,
   "metadata": {},
   "outputs": [],
   "source": [
    "ffnn_block = nn.Sequential(\n",
    "    nn.Flatten(),             # Flattening the input to a single row\n",
    "    nn.Linear(36864, 128),    # First linear layer of the FFNN portion\n",
    "    nn.ReLU(inplace=True),    # ReLU activation function applied sequentially\n",
    "    nn.Linear(128,10),        # Second linear layer of the FFNN portion\n",
    ")"
   ]
  },
  {
   "cell_type": "markdown",
   "metadata": {},
   "source": [
    "You can see that we are matching the number of neurons in the input of this later block, with the number of outputs of the former block when defining the CNN layers (36,864 neurons), and the number of classes that we have (10 digits). Let's put everything together to conform our first CNN architecture:"
   ]
  },
  {
   "cell_type": "code",
   "execution_count": 20,
   "metadata": {},
   "outputs": [],
   "source": [
    "class CNN_Plain(nn.Module):\n",
    "    def __init__(self):\n",
    "        super(CNN_Plain, self).__init__()\n",
    "\n",
    "        # Convolutional block\n",
    "        self.block1 = nn.Sequential(\n",
    "            nn.Conv2d(1, 32, 3, 1),         # First Convolutional layer with no padding\n",
    "            nn.ReLU(inplace=True),          # First ReLU activation function applied sequentially\n",
    "            nn.Conv2d(32, 64, 3, 1),        # Second Convolutional layer with no padding\n",
    "            nn.ReLU(inplace=True),          # Second ReLU activation function applied sequentially\n",
    "        )\n",
    "\n",
    "        # FFNN block\n",
    "        self.block2 = nn.Sequential(\n",
    "            nn.Flatten(),                   # Flattening the input to a single row\n",
    "            nn.Linear(36864, 128),          # First linear layer of the FFNN portion\n",
    "            nn.ReLU(inplace=True),          # ReLU activation function applied sequentially\n",
    "            nn.Linear(128,10),              # Second linear layer of the FFNN portion\n",
    "        )\n",
    "    \n",
    "    def forward(self, x):                   # Foward method to propagate information\n",
    "        x = self.block1(x)\n",
    "        return self.block2(x)"
   ]
  },
  {
   "cell_type": "markdown",
   "metadata": {},
   "source": [
    "After defining our CNN architecture in `CNN_Plain`, we are ready to train the model:"
   ]
  },
  {
   "cell_type": "code",
   "execution_count": 21,
   "metadata": {
    "scrolled": true
   },
   "outputs": [
    {
     "name": "stdout",
     "output_type": "stream",
     "text": [
      "Epoch: 1, Train loss: 2.1790275805032073\n",
      "Epoch: 2, Train loss: 1.312905076597291\n",
      "Epoch: 3, Train loss: 0.5634769140911509\n",
      "Epoch: 4, Train loss: 0.4210257286201916\n",
      "Epoch: 5, Train loss: 0.37475735171517327\n",
      "Epoch: 6, Train loss: 0.3491959523862359\n",
      "Epoch: 7, Train loss: 0.3310156316518275\n",
      "Epoch: 8, Train loss: 0.31672179419348745\n",
      "Epoch: 9, Train loss: 0.3046003618696605\n",
      "Epoch: 10, Train loss: 0.29385553533906367\n",
      "Epoch: 11, Train loss: 0.2839885603136091\n",
      "Epoch: 12, Train loss: 0.2745107384617013\n",
      "Epoch: 13, Train loss: 0.265205946248541\n",
      "Epoch: 14, Train loss: 0.25617244294775066\n",
      "Epoch: 15, Train loss: 0.2472375801710813\n",
      "Epoch: 16, Train loss: 0.2385775832129694\n",
      "Epoch: 17, Train loss: 0.23026390759739032\n",
      "Epoch: 18, Train loss: 0.22239879706997606\n",
      "Epoch: 19, Train loss: 0.2149094901740678\n",
      "Epoch: 20, Train loss: 0.2076994394109066\n"
     ]
    },
    {
     "data": {
      "image/png": "[encoded data removed]",
      "text/plain": [
       "<Figure size 640x480 with 1 Axes>"
      ]
     },
     "metadata": {},
     "output_type": "display_data"
    }
   ],
   "source": [
    "learning_rate = 0.001\n",
    "epochs = 20\n",
    "\n",
    "# Instatiating the base classifier and the Stochastic GD\n",
    "cnn_plain_classifier = CNN_Plain()\n",
    "sgd_optimizer = torch.optim.SGD(cnn_plain_classifier.parameters(), \n",
    "                                lr=learning_rate)\n",
    "\n",
    "# Training the model instantiated above\n",
    "train(classifier = cnn_plain_classifier, optimizer = sgd_optimizer, epochs = epochs,\n",
    "      X_train = training_set_batches, y_train = training_labels_batches)"
   ]
  },
  {
   "cell_type": "markdown",
   "metadata": {},
   "source": [
    "We can see that the loss is decreasing, as expected. Let's test the model with unseen examples and measure the accuracy:"
   ]
  },
  {
   "cell_type": "code",
   "execution_count": 22,
   "metadata": {},
   "outputs": [
    {
     "name": "stdout",
     "output_type": "stream",
     "text": [
      "Test loss: 0.0032716501496239765, test accuracy: 93.97987365722656\n"
     ]
    }
   ],
   "source": [
    "# Testing the model with unseen examples\n",
    "final_loss, final_accuracy = test(classifier = cnn_plain_classifier,\n",
    "                                  X_test = testing_set_batches, \n",
    "                                  y_test = testing_labels_batches,\n",
    "                                  batch_size = batch_size)"
   ]
  },
  {
   "cell_type": "markdown",
   "metadata": {},
   "source": [
    "The CNN model we just built is performing better than the FFNN, having an accuracy of almost 94% for the given classification task. However, we are including more than 36 thousand input neurons and the optimization is taking some time to complete. Let's reduce the number of neurons going through the final FFNN step of our CNN architecture by including a Max Pooling layer:"
   ]
  },
  {
   "cell_type": "code",
   "execution_count": 23,
   "metadata": {},
   "outputs": [],
   "source": [
    "class CNN_Pooling(nn.Module):\n",
    "    def __init__(self):\n",
    "        super(CNN_Pooling, self).__init__()\n",
    "        self.block1 = nn.Sequential(\n",
    "            nn.Conv2d(1, 32, 3, 1),\n",
    "            nn.ReLU(inplace=True),\n",
    "            nn.Conv2d(32, 64, 3, 1),\n",
    "            nn.ReLU(inplace=True),\n",
    "            nn.MaxPool2d(2),              # Max Pooling layer added to the CNN architecture\n",
    "        )\n",
    "        self.block2 = nn.Sequential(\n",
    "            nn.Flatten(),\n",
    "            nn.Linear(9216, 128),         # Linear layer changing input size from 36,864 neurons to 9,216\n",
    "            nn.ReLU(inplace=True),\n",
    "            nn.Linear(128,10),\n",
    "        )\n",
    "\n",
    "    def forward(self, x):\n",
    "        x = self.block1(x)\n",
    "        return self.block2(x)"
   ]
  },
  {
   "cell_type": "markdown",
   "metadata": {},
   "source": [
    "This new architecture has two main changes:\n",
    "- We included the Max Pooling layer at the end of the convolutional block. This will reduce the dimensionality of the output to one fourth, since the Max Pooling kernel has a size of (2,2) and no overlapping.\n",
    "- The number of neurons in the input of the second block, the FFNN one, is, as stated above, one fourth of the original one. This means we are reducing dimensionality from 36,864 to 9,216, which will boost the training process and avoid overfitting.\n",
    "\n",
    "Let's train the CNN model with Max Pooling:"
   ]
  },
  {
   "cell_type": "code",
   "execution_count": 24,
   "metadata": {
    "scrolled": true
   },
   "outputs": [
    {
     "name": "stdout",
     "output_type": "stream",
     "text": [
      "Epoch: 1, Train loss: 2.2654730343361145\n",
      "Epoch: 2, Train loss: 2.118377643353395\n",
      "Epoch: 3, Train loss: 1.6158121201529432\n",
      "Epoch: 4, Train loss: 0.8491581282508907\n",
      "Epoch: 5, Train loss: 0.5456358325252655\n",
      "Epoch: 6, Train loss: 0.4455220715196402\n",
      "Epoch: 7, Train loss: 0.39806798376889624\n",
      "Epoch: 8, Train loss: 0.369859349530643\n",
      "Epoch: 9, Train loss: 0.35032563469112554\n",
      "Epoch: 10, Train loss: 0.3354371114453273\n",
      "Epoch: 11, Train loss: 0.3232554686285539\n",
      "Epoch: 12, Train loss: 0.3128109032760805\n",
      "Epoch: 13, Train loss: 0.30359230574959123\n",
      "Epoch: 14, Train loss: 0.29519725250981765\n",
      "Epoch: 15, Train loss: 0.28736727902375814\n",
      "Epoch: 16, Train loss: 0.27990701915358684\n",
      "Epoch: 17, Train loss: 0.27277149110714766\n",
      "Epoch: 18, Train loss: 0.26595307749185737\n",
      "Epoch: 19, Train loss: 0.25939644945423995\n",
      "Epoch: 20, Train loss: 0.25308150416021663\n"
     ]
    },
    {
     "data": {
      "image/png": "[encoded data removed]",
      "text/plain": [
       "<Figure size 640x480 with 1 Axes>"
      ]
     },
     "metadata": {},
     "output_type": "display_data"
    }
   ],
   "source": [
    "learning_rate = 0.001\n",
    "epochs = 20\n",
    "\n",
    "# Instatiating the base classifier and the Stochastic GD\n",
    "cnn_pooling_classifier = CNN_Pooling()\n",
    "sgd_optimizer = torch.optim.SGD(cnn_pooling_classifier.parameters(), \n",
    "                                lr=learning_rate)\n",
    "\n",
    "# Training the model instantiated above\n",
    "train(classifier = cnn_pooling_classifier, optimizer = sgd_optimizer, epochs = epochs,\n",
    "      X_train = training_set_batches, y_train = training_labels_batches)"
   ]
  },
  {
   "cell_type": "markdown",
   "metadata": {},
   "source": [
    "And the testing performance is:"
   ]
  },
  {
   "cell_type": "code",
   "execution_count": 25,
   "metadata": {},
   "outputs": [
    {
     "name": "stdout",
     "output_type": "stream",
     "text": [
      "Test loss: 0.003986810061977362, test accuracy: 92.59062194824219\n"
     ]
    }
   ],
   "source": [
    "# Testing the model with unseen examples\n",
    "final_loss, final_accuracy = test(classifier = cnn_pooling_classifier,\n",
    "                                  X_test = testing_set_batches, \n",
    "                                  y_test = testing_labels_batches,\n",
    "                                  batch_size = batch_size)"
   ]
  },
  {
   "cell_type": "markdown",
   "metadata": {},
   "source": [
    "By reducing the number of input neurons, we reduce the time it takes to train the model and the performance is still above 90%! To keep regularizing the network, we can add Batch Normalization layers in the convolutional and FFNN blocks:"
   ]
  },
  {
   "cell_type": "code",
   "execution_count": 26,
   "metadata": {},
   "outputs": [],
   "source": [
    "class CNN_BatchNorm(nn.Module):\n",
    "    def __init__(self):\n",
    "        super(CNN_BatchNorm, self).__init__()\n",
    "        self.block1 = nn.Sequential(\n",
    "            nn.Conv2d(1, 32, 3, 1),\n",
    "            nn.BatchNorm2d(32),         # Two-dimensional Batch Normalization layer\n",
    "            nn.ReLU(inplace=True),\n",
    "            nn.Conv2d(32, 64, 3, 1),\n",
    "            nn.BatchNorm2d(64),         # Two-dimensional Batch Normalization layer\n",
    "            nn.ReLU(inplace=True),\n",
    "            nn.MaxPool2d(2),\n",
    "        )\n",
    "        self.block2 = nn.Sequential(\n",
    "            nn.Flatten(),\n",
    "            nn.Linear(9216, 128),\n",
    "            nn.BatchNorm1d(128),        # One-dimensional Batch Normalization layer\n",
    "            nn.ReLU(inplace=True),\n",
    "            nn.Linear(128,10),\n",
    "            nn.BatchNorm1d(10)          # One-dimensional Normalization layer\n",
    "        )\n",
    "\n",
    "    def forward(self, x):\n",
    "        x = self.block1(x)\n",
    "        return self.block2(x)"
   ]
  },
  {
   "cell_type": "markdown",
   "metadata": {},
   "source": [
    "This new architecture has one main changes, we included Batch Normalization after all layers, with the corresponding size of their outputs. Let's train the CNN model with Batch Normalization:"
   ]
  },
  {
   "cell_type": "code",
   "execution_count": 27,
   "metadata": {
    "scrolled": true
   },
   "outputs": [
    {
     "name": "stdout",
     "output_type": "stream",
     "text": [
      "Epoch: 1, Train loss: 0.6834748851846276\n",
      "Epoch: 2, Train loss: 0.5011698810784802\n",
      "Epoch: 3, Train loss: 0.4404020438443369\n",
      "Epoch: 4, Train loss: 0.39802797561261194\n",
      "Epoch: 5, Train loss: 0.3646915782489248\n",
      "Epoch: 6, Train loss: 0.3370087592522981\n",
      "Epoch: 7, Train loss: 0.3133315837014713\n",
      "Epoch: 8, Train loss: 0.29274057439649537\n",
      "Epoch: 9, Train loss: 0.2745667134584394\n",
      "Epoch: 10, Train loss: 0.258364516534785\n",
      "Epoch: 11, Train loss: 0.24380705745489611\n",
      "Epoch: 12, Train loss: 0.23063363423988\n",
      "Epoch: 13, Train loss: 0.2186395650161609\n",
      "Epoch: 14, Train loss: 0.2076959055878206\n",
      "Epoch: 15, Train loss: 0.19764128711813295\n",
      "Epoch: 16, Train loss: 0.18839169091888583\n",
      "Epoch: 17, Train loss: 0.17985034293965743\n",
      "Epoch: 18, Train loss: 0.1719388083449559\n",
      "Epoch: 19, Train loss: 0.1645974550070539\n",
      "Epoch: 20, Train loss: 0.1577699469096625\n"
     ]
    },
    {
     "data": {
      "image/png": "[encoded data removed]",
      "text/plain": [
       "<Figure size 640x480 with 1 Axes>"
      ]
     },
     "metadata": {},
     "output_type": "display_data"
    }
   ],
   "source": [
    "learning_rate = 0.001\n",
    "epochs = 20\n",
    "\n",
    "# Instatiating the base classifier and the Stochastic GD\n",
    "cnn_batch_norm_classifier = CNN_BatchNorm()\n",
    "sgd_optimizer = torch.optim.SGD(cnn_batch_norm_classifier.parameters(), \n",
    "                                lr=learning_rate)\n",
    "\n",
    "# Training the model instantiated above\n",
    "train(classifier = cnn_batch_norm_classifier, optimizer = sgd_optimizer, epochs = epochs,\n",
    "      X_train = training_set_batches, y_train = training_labels_batches)"
   ]
  },
  {
   "cell_type": "markdown",
   "metadata": {},
   "source": [
    "And the testing performance is:"
   ]
  },
  {
   "cell_type": "code",
   "execution_count": 28,
   "metadata": {},
   "outputs": [
    {
     "name": "stdout",
     "output_type": "stream",
     "text": [
      "Test loss: 0.0019640545092666074, test accuracy: 99.63352966308594\n"
     ]
    }
   ],
   "source": [
    "# Testing the model with unseen examples\n",
    "final_loss, final_accuracy = test(classifier = cnn_batch_norm_classifier,\n",
    "                                  X_test = testing_set_batches, \n",
    "                                  y_test = testing_labels_batches,\n",
    "                                  batch_size = batch_size)"
   ]
  },
  {
   "cell_type": "markdown",
   "metadata": {},
   "source": [
    "Finally, after including Batch Normalization, we can include a secondary regularization procedure, the Dropout, to ease the training process and reduce the likelihood of overfitting. We will include Dropout in both blocks, the CNN and the FFNN ones:"
   ]
  },
  {
   "cell_type": "code",
   "execution_count": 29,
   "metadata": {},
   "outputs": [],
   "source": [
    "class CNN_Dropout(nn.Module):\n",
    "    def __init__(self):\n",
    "        super(CNN_Dropout, self).__init__()\n",
    "        self.block1 = nn.Sequential(\n",
    "            nn.Conv2d(1, 32, 3, 1),\n",
    "            nn.BatchNorm2d(32),\n",
    "            nn.ReLU(inplace=True),\n",
    "            nn.Conv2d(32, 64, 3, 1),\n",
    "            nn.BatchNorm2d(64),\n",
    "            nn.ReLU(inplace=True),\n",
    "            nn.MaxPool2d(2),\n",
    "            nn.Dropout(0.25),      # Dropout layer in the Convolutional block\n",
    "        )\n",
    "        self.block2 = nn.Sequential(\n",
    "            nn.Flatten(),\n",
    "            nn.Linear(9216, 128),\n",
    "            nn.BatchNorm1d(128),\n",
    "            nn.ReLU(inplace=True),\n",
    "            nn.Dropout(0.5),       # Dropout layer in the FFNN block\n",
    "            nn.Linear(128,10),\n",
    "            nn.BatchNorm1d(10)\n",
    "        )\n",
    "\n",
    "    def forward(self, x):\n",
    "        x = self.block1(x)\n",
    "        return self.block2(x)"
   ]
  },
  {
   "cell_type": "markdown",
   "metadata": {},
   "source": [
    "This new and final architecture has one main changes, the inclusion of Dropout layers for CNN and FFNN blocks. Let's train the CNN model with Dropout:"
   ]
  },
  {
   "cell_type": "code",
   "execution_count": 30,
   "metadata": {},
   "outputs": [
    {
     "name": "stdout",
     "output_type": "stream",
     "text": [
      "Epoch: 1, Train loss: 1.0688524045415524\n",
      "Epoch: 2, Train loss: 0.7956943750889824\n",
      "Epoch: 3, Train loss: 0.70447465529574\n",
      "Epoch: 4, Train loss: 0.6416893007277426\n",
      "Epoch: 5, Train loss: 0.5975622590035518\n",
      "Epoch: 6, Train loss: 0.5556466649971536\n",
      "Epoch: 7, Train loss: 0.523204555961369\n",
      "Epoch: 8, Train loss: 0.49577169123488957\n",
      "Epoch: 9, Train loss: 0.47141785744919196\n",
      "Epoch: 10, Train loss: 0.44931941646248547\n",
      "Epoch: 11, Train loss: 0.4322715442953333\n",
      "Epoch: 12, Train loss: 0.413452492848134\n",
      "Epoch: 13, Train loss: 0.39774962357366517\n",
      "Epoch: 14, Train loss: 0.3839825545229129\n",
      "Epoch: 15, Train loss: 0.3710784935620802\n",
      "Epoch: 16, Train loss: 0.35755894233041735\n",
      "Epoch: 17, Train loss: 0.34634204898307575\n",
      "Epoch: 18, Train loss: 0.33646350098190025\n",
      "Epoch: 19, Train loss: 0.3278507924537415\n",
      "Epoch: 20, Train loss: 0.3168014250457414\n"
     ]
    },
    {
     "data": {
      "image/png": "[encoded data removed]",
      "text/plain": [
       "<Figure size 640x480 with 1 Axes>"
      ]
     },
     "metadata": {},
     "output_type": "display_data"
    }
   ],
   "source": [
    "learning_rate = 0.001\n",
    "epochs = 20\n",
    "\n",
    "# Instatiating the base classifier and the Stochastic GD\n",
    "cnn_dropout_classifier = CNN_Dropout()\n",
    "sgd_optimizer = torch.optim.SGD(cnn_dropout_classifier.parameters(), \n",
    "                                lr=learning_rate)\n",
    "\n",
    "# Training the model instantiated above\n",
    "train(classifier = cnn_dropout_classifier, optimizer = sgd_optimizer, epochs = epochs,\n",
    "      X_train = training_set_batches, y_train = training_labels_batches)"
   ]
  },
  {
   "cell_type": "markdown",
   "metadata": {},
   "source": [
    "And the testing performance is:"
   ]
  },
  {
   "cell_type": "code",
   "execution_count": 31,
   "metadata": {},
   "outputs": [
    {
     "name": "stdout",
     "output_type": "stream",
     "text": [
      "Test loss: 0.003145770731765324, test accuracy: 98.25093078613281\n"
     ]
    }
   ],
   "source": [
    "# Testing the model with unseen examples\n",
    "final_loss, final_accuracy = test(classifier = cnn_dropout_classifier,\n",
    "                                  X_test = testing_set_batches, \n",
    "                                  y_test = testing_labels_batches,\n",
    "                                  batch_size = batch_size)"
   ]
  },
  {
   "cell_type": "markdown",
   "metadata": {},
   "source": [
    "After these model architecture changes, we can see that the models' testing performances are:\n",
    "\n",
    "| Model                                                                           | Accuracy   | Training time |\n",
    "|---------------------------------------------------------------------------------|------------|---------------|\n",
    "| Multi-Layer perceptron                                                          | Around 89% | 8 seconds     |\n",
    "| Plain CNN with two convolutional layers                                         | Around 93% | 240 seconds   |\n",
    "| CNN with two convolutional layers and Max Pooling                               | Around 92% | 210 seconds   |\n",
    "| CNN with two convolutional layers, Max Pooling and Batch Normalization          | Around 99% | 270 seconds   |\n",
    "| CNN with two convolutional layers, Max Pooling, Batch Normalization and Dropout | Around 98% | 280 seconds   |\n",
    "\n",
    "The model to be selected is the one having regularization and the best balance between training time complexity and accuracy; in this case is the `CNN_BatchNorm model` architecture, a CNN with two convolutional layers, Max Pooling and Batch Normalization. The model outperforms the Multi-Layer Perceptron by 11% using the same testing set, but is 34x more expensive to train (in time). The CNN model takes close to 5 minutes to be trained and identifies more than 29,700 digit images correctly out of ~30,000 images in the testing set (less than 300 incorectly classified). \n",
    "\n",
    "Let's see some of these correct and incorrect classifications."
   ]
  },
  {
   "cell_type": "markdown",
   "metadata": {},
   "source": [
    "### Zoom-in into some interesting testing examples"
   ]
  },
  {
   "cell_type": "markdown",
   "metadata": {},
   "source": [
    "In the next code sections, we will see some cases where the model:\n",
    "1. Classifies the data correctly and with high certainty\n",
    "2. Classifies the data correctly, but with some uncertainty\n",
    "3. Classifies the data incorrectly being uncertain about the output\n",
    "4. Classifies the data incorrectly being certain about the output"
   ]
  },
  {
   "cell_type": "code",
   "execution_count": 32,
   "metadata": {},
   "outputs": [],
   "source": [
    "# Testing method to facilitate the testing procedure\n",
    "def test_and_plot(model, testing_sample, testing_label):\n",
    "    target = torch.tensor(testing_label).long()                    # Parsing the labels to a tensor\n",
    "    data = torch.tensor(testing_sample).float()                    # Converting the data into a Float tensor\n",
    "    output = model(data)                                           # Calculating the output of the CNN for a given batch\n",
    "    probas = torch.nn.functional.softmax(output[0], dim=0)         # Getting the predicted likelihood using the softmax function\n",
    "    \n",
    "    print('Real value is', target.item())                          # Printing the real value\n",
    "    print('Predicted value is {} with {}% probability'.format(     # Printing the predicted value and the likelihood\n",
    "        probas.argmax().item(), \n",
    "        int((probas.max()*100).round().item())))\n",
    "\n",
    "    # Plotting the real image at the left and the model probabilities for all output neurons at the right\n",
    "    fig, axes = plt.subplots(1,2,figsize=(12,3))       \n",
    "    axes[0].imshow(testing_sample[0][0])            # Ploting the real testing image\n",
    "    axes[0].axis('off')\n",
    "    axes[1].bar(labels_input,                       # Plotting the model probabilities for all output neurons\n",
    "            probas.detach().numpy())\n",
    "    axes[1].set_xticks(range(0,10))\n",
    "    plt.show() "
   ]
  },
  {
   "cell_type": "code",
   "execution_count": 33,
   "metadata": {},
   "outputs": [
    {
     "name": "stdout",
     "output_type": "stream",
     "text": [
      "---- Example: The CNN model is correct and absolutely sure of the output ----\n",
      "Real value is 5\n",
      "Predicted value is 5 with 96% probability\n"
     ]
    },
    {
     "data": {
      "image/png": "[encoded data removed]",
      "text/plain": [
       "<Figure size 1200x300 with 2 Axes>"
      ]
     },
     "metadata": {},
     "output_type": "display_data"
    },
    {
     "name": "stdout",
     "output_type": "stream",
     "text": [
      "---- Example: The CNN model is correct, but unsure about the output ----\n",
      "Real value is 1\n",
      "Predicted value is 1 with 37% probability\n"
     ]
    },
    {
     "data": {
      "image/png": "[encoded data removed]",
      "text/plain": [
       "<Figure size 1200x300 with 2 Axes>"
      ]
     },
     "metadata": {},
     "output_type": "display_data"
    },
    {
     "name": "stdout",
     "output_type": "stream",
     "text": [
      "---- Example: The CNN model is wrong and unsure about the output ----\n",
      "Real value is 9\n",
      "Predicted value is 8 with 33% probability\n"
     ]
    },
    {
     "data": {
      "image/png": "[encoded data removed]",
      "text/plain": [
       "<Figure size 1200x300 with 2 Axes>"
      ]
     },
     "metadata": {},
     "output_type": "display_data"
    },
    {
     "name": "stdout",
     "output_type": "stream",
     "text": [
      "---- Example: The CNN model is wrong and sure about the output ----\n",
      "Real value is 9\n",
      "Predicted value is 7 with 69% probability\n"
     ]
    },
    {
     "data": {
      "image/png": "[encoded data removed]",
      "text/plain": [
       "<Figure size 1200x300 with 2 Axes>"
      ]
     },
     "metadata": {},
     "output_type": "display_data"
    }
   ],
   "source": [
    "#   Dictionary of IDs according to the casses mapped above. The keys refer to (batch id, sample id in the batch)\n",
    "## (5, 12)  -> The classifier is correct and absolutely sure of the output\n",
    "## (2, 0)   -> The classifier is correct, but unsure about the output\n",
    "## (0, 30)  -> The classifier is wrong and unsure about the output\n",
    "## (85, 40) -> The classifier is wrong and sure about the output\n",
    "\n",
    "idxs = {(5, 12):  'The CNN model is correct and absolutely sure of the output',\n",
    "        (2, 0):   'The CNN model is correct, but unsure about the output',\n",
    "        (0, 30):  'The CNN model is wrong and unsure about the output',\n",
    "        (85, 40): 'The CNN model is wrong and sure about the output'}\n",
    "\n",
    "for idx in idxs:\n",
    "    print('---- Example:', idxs[idx], '----')\n",
    "    test_and_plot(model = cnn_batch_norm_classifier, \n",
    "                  testing_sample = np.array([testing_set_batches[idx[0]][idx[1]]]), \n",
    "                  testing_label = testing_labels_batches[idx[0]][idx[1]])"
   ]
  },
  {
   "cell_type": "markdown",
   "metadata": {},
   "source": [
    "From the results above, we can see that, altough the model has a high accuracy for the testing samples, there are some observations with which the model is struggling with, such as the last two. The model might be unsure of the output and struggle to identify the targets (case 3), or it can even be very sure about the output and get the target wrong (this happens for less than 5 testing observations, so the percentage might be negligible - 0.017%)."
   ]
  },
  {
   "cell_type": "markdown",
   "metadata": {},
   "source": [
    "## Lessons learned"
   ]
  },
  {
   "cell_type": "markdown",
   "metadata": {},
   "source": [
    "We learned:\n",
    "- How implement a different architectures of a Convolutional Neural Network (CNN) from scratch using PyTorch, adding input, hidden and output layers with various dimensions, and read image data to be used in later processing.\n",
    "- How to transform the images into processable data that a CNN can intake to generate meaningful outputs.\n",
    "- How to add Pooling layers to reduce dimensionality of the features generated by convolutional layers.\n",
    "- How to configure regularization layers and mix them up with convolutional and linear layers, such as adding Batch Normalization and Dropout."
   ]
  }
 ],
 "metadata": {
  "kernelspec": {
   "display_name": "Python 3 (ipykernel)",
   "language": "python",
   "name": "python3"
  },
  "language_info": {
   "codemirror_mode": {
    "name": "ipython",
    "version": 3
   },
   "file_extension": ".py",
   "mimetype": "text/x-python",
   "name": "python",
   "nbconvert_exporter": "python",
   "pygments_lexer": "ipython3",
   "version": "3.8.19"
  },
  "toc": {
   "base_numbering": 1,
   "nav_menu": {},
   "number_sections": true,
   "sideBar": true,
   "skip_h1_title": false,
   "title_cell": "Table of Contents",
   "title_sidebar": "Contents",
   "toc_cell": false,
   "toc_position": {},
   "toc_section_display": true,
   "toc_window_display": false
  },
  "varInspector": {
   "cols": {
    "lenName": 16,
    "lenType": 16,
    "lenVar": 40
   },
   "kernels_config": {
    "python": {
     "delete_cmd_postfix": "",
     "delete_cmd_prefix": "del ",
     "library": "var_list.py",
     "varRefreshCmd": "print(var_dic_list())"
    },
    "r": {
     "delete_cmd_postfix": ") ",
     "delete_cmd_prefix": "rm(",
     "library": "var_list.r",
     "varRefreshCmd": "cat(var_dic_list()) "
    }
   },
   "types_to_exclude": [
    "module",
    "function",
    "builtin_function_or_method",
    "instance",
    "_Feature"
   ],
   "window_display": false
  }
 },
 "nbformat": 4,
 "nbformat_minor": 4
}
